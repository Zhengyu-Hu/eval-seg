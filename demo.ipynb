{
 "cells": [
  {
   "cell_type": "code",
   "execution_count": null,
   "id": "5e8d3d12",
   "metadata": {},
   "outputs": [],
   "source": [
    "import torch\n",
    "# from sam2.build_sam import build_sam2_video_predictor\n",
    "from utils.videos_helpey import *\n",
    "from matplotlib import pyplot as plt\n",
    "from PIL import Image\n",
    "import os\n",
    "\n",
    "device = torch.device('cuda' if torch.cuda.is_available() else 'cpu')\n",
    "# BUG: Use the sam2/configs/sam2.1/sam2.1_hiera_b+.yaml in the folder of site-packages\n",
    "# not the relative path of the working directory\n",
    "model_cfg = './configs/sam2.1/sam2.1_hiera_b+.yaml'"
   ]
  },
  {
   "cell_type": "code",
   "execution_count": null,
   "id": "719d3e2f",
   "metadata": {},
   "outputs": [],
   "source": [
    "# Load the model\n",
    "sam2_ckpt = './sam2ckpts/sam2.1_hiera_base_plus.pt'\n",
    "predictor = build_sam2_video_predictor(model_cfg, sam2_ckpt,device)\n",
    "\n",
    "# Load the data\n",
    "reference_folder = 'data/llff/reference_image'\n",
    "exp_name = 'horns_center'\n",
    "video_dir = os.path.join( reference_folder, exp_name)\n",
    "suffix = ('jpeg', 'jpg', 'JPG', 'JPEG')\n",
    "# 将参考图像加入视频帧\n",
    "frame_names = [f for f in sorted(os.listdir(video_dir)) \n",
    "          if f.endswith(suffix)]\n",
    "masks_folder = 'data/llff/masks'\n",
    "masks_dir = os.path.join(masks_folder, exp_name)\n",
    "# 将分割图像加入视频帧\n",
    "frame_names += [f for f in sorted(os.listdir(masks_dir)) \n",
    "          if f.endswith(suffix)]"
   ]
  },
  {
   "cell_type": "code",
   "execution_count": null,
   "id": "87eabb99",
   "metadata": {},
   "outputs": [],
   "source": [
    "inference_state = predictor.init_state(video_path=video_dir)\n",
    "\n",
    "frame_idx = 0  # the frame index we interact with\n",
    "obj_id = 1  # give a unique id to each object we interact with (it can be any integers)\n",
    "_, out_obj_ids, out_mask_logits = predictor.add_new_points_or_box(inference_state=inference_state,\n",
    "                                                                  frame_idx=frame_idx,\n",
    "                                                                  obj_id=obj_id,\n",
    "                                                                  )"
   ]
  }
 ],
 "metadata": {
  "kernelspec": {
   "display_name": "Python 3",
   "language": "python",
   "name": "python3"
  },
  "language_info": {
   "codemirror_mode": {
    "name": "ipython",
    "version": 3
   },
   "file_extension": ".py",
   "mimetype": "text/x-python",
   "name": "python",
   "nbconvert_exporter": "python",
   "pygments_lexer": "ipython3",
   "version": "3.11.11"
  }
 },
 "nbformat": 4,
 "nbformat_minor": 5
}
